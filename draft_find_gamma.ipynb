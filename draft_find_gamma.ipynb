{
 "cells": [
  {
   "cell_type": "code",
   "execution_count": 1,
   "source": [
    "import h5py\n",
    "import matplotlib.pyplot as plt\n",
    "import numpy as np\n",
    "from scipy.signal import find_peaks_cwt\n",
    "import denoise as dn"
   ],
   "outputs": [],
   "metadata": {}
  },
  {
   "cell_type": "code",
   "execution_count": 2,
   "source": [
    "with h5py.File('data/deposition.h5', 'r') as source:\n",
    "    Ebounds = np.array(source['Matrix'].attrs['Edges'])"
   ],
   "outputs": [],
   "metadata": {}
  },
  {
   "cell_type": "code",
   "execution_count": 166,
   "source": [
    "file_path = 'data/train_2.h5'\n",
    "event = '1000'\n",
    "\n",
    "time_interval = 1\n",
    "\n",
    "with h5py.File(file_path, 'r') as source:\n",
    "    # 对应同一个事件，采用同一个时间段进行衡量\n",
    "    Time_sup = np.empty((7, 4))\n",
    "    Time_inf = np.empty((7, 4))\n",
    "    for cube in range(7):\n",
    "        for det in range(4):\n",
    "            Time_sup[cube, det] = source[event]['response_E_T']['D'+str(cube)][str(det)][:,0].max()\n",
    "            Time_inf[cube, det] = source[event]['response_E_T']['D'+str(cube)][str(det)][:,0].min()\n",
    "    time_sup = np.floor(Time_sup.min() - time_interval) #每个时刻t的计数的范围对应t~t+dt\n",
    "    time_inf = np.ceil(Time_inf.max())\n",
    "\n",
    "    Time = np.arange(time_inf, time_sup, time_interval)\n",
    "    time_num = Time.size    # 不直接计算，防止float的精度错误\n",
    "    Tbounds = np.array([*Time, Time[-1] + time_interval])\n",
    "    \n",
    "    # 广播规则的预备，对应上下限的准备\n",
    "    Inf = np.empty((time_num, 100, 2))\n",
    "    Inf[:,:,0] = np.expand_dims(Time ,1)\n",
    "    Inf[:,:,1] = np.expand_dims(Ebounds[:100], 0)\n",
    "\n",
    "    Sup = np.empty((time_num, 100, 2))\n",
    "    Sup[:,:,0] = np.expand_dims(Time + time_interval ,1)\n",
    "    Sup[:,:,1] = np.expand_dims(Ebounds[1:], 0)\n",
    "\n",
    "    # 初始索引顺序：cube, det, time, Eng\n",
    "    # time, Eng多一个长度用于存储超界的记录\n",
    "    Counts = np.zeros((7, 4, time_num + 1, 100 + 1))\n",
    "    for cube in range(7):\n",
    "        for det in range(4):\n",
    "            light_doc = source[event]['response_E_T']['D' + str(cube)][str(det)]\n",
    "\n",
    "            # id = -1 , 对应尾部废弃项\n",
    "            Id_time = (np.expand_dims(light_doc[:, 0], 1) >= Tbounds).sum(axis=1) - 1\n",
    "            # Id_time[Id_time == -1] = Tbounds.size - 1\n",
    "            Id_eng = (np.expand_dims(light_doc[:, 1], 1) >= Ebounds).sum(axis=1) - 1\n",
    "            # Id_eng[Id_eng == -1] = Ebounds.size - 1\n",
    "\n",
    "            for i_doc in range(Id_time.size):\n",
    "                Counts[cube, det, Id_time[i_doc], Id_eng[i_doc]] += 1\n",
    "            \n",
    "            '''\n",
    "            虽然没有用for循环，但下面的广播规则更慢\n",
    "                对比运行结果为4.3s对0.5s（train_2,事件1000,cube=0,det=0）\n",
    "                Id_time_eng = np.array([Id_time, Id_eng]).swapaxes(0, 1)\n",
    "                Id_count = (np.expand_dims(Id_time_eng, 1) == Id_time_eng).prod(axis=2).sum(axis=1)\n",
    "\n",
    "                Counts[0,0][Id_time, Id_eng] += Id_count\n",
    "            '''\n",
    "\n",
    "    # 最终索引顺序：cube, det, eng, time\n",
    "    # 去除范围外的部分（对应eng, time的最后一项）\n",
    "    Counts = Counts[:, :, :-1, :-1].swapaxes(2, 3)\n",
    "    Time = Time - Time[0]\n",
    "\n",
    "\n",
    "#Light_response = np.empty((7, 4, ?, ))\n",
    "\n"
   ],
   "outputs": [],
   "metadata": {}
  },
  {
   "cell_type": "code",
   "execution_count": 169,
   "source": [
    "plt.plot(Time, Counts[3,0,0,:])"
   ],
   "outputs": [
    {
     "output_type": "execute_result",
     "data": {
      "text/plain": [
       "[<matplotlib.lines.Line2D at 0x7f3854434430>]"
      ]
     },
     "metadata": {},
     "execution_count": 169
    },
    {
     "output_type": "display_data",
     "data": {
      "image/png": "[encoded data removed]",
      "text/plain": [
       "<Figure size 432x288 with 1 Axes>"
      ]
     },
     "metadata": {
      "needs_background": "light"
     }
    }
   ],
   "metadata": {}
  },
  {
   "cell_type": "code",
   "execution_count": 122,
   "source": [
    "a"
   ],
   "outputs": [
    {
     "output_type": "execute_result",
     "data": {
      "text/plain": [
       "array([[1.56691229e+09, 1.57440774e+00],\n",
       "       [1.56691229e+09, 9.14185210e-03],\n",
       "       [1.56691229e+09, 1.67126043e-02],\n",
       "       ...,\n",
       "       [1.56691252e+09, 3.37101027e-02],\n",
       "       [1.56691252e+09, 2.26738986e-02],\n",
       "       [1.56691252e+09, 7.98994801e-03]])"
      ]
     },
     "metadata": {},
     "execution_count": 122
    }
   ],
   "metadata": {}
  },
  {
   "cell_type": "code",
   "execution_count": 128,
   "source": [
    "b = ((np.expand_dims(a[:, 1], 1) >= Ebounds).sum(axis=1) - 1)\n",
    "(b == 99).sum()"
   ],
   "outputs": [
    {
     "output_type": "execute_result",
     "data": {
      "text/plain": [
       "20"
      ]
     },
     "metadata": {},
     "execution_count": 128
    }
   ],
   "metadata": {}
  },
  {
   "cell_type": "code",
   "execution_count": 130,
   "source": [
    "(b == -1).sum()"
   ],
   "outputs": [
    {
     "output_type": "execute_result",
     "data": {
      "text/plain": [
       "0"
      ]
     },
     "metadata": {},
     "execution_count": 130
    }
   ],
   "metadata": {}
  },
  {
   "cell_type": "code",
   "execution_count": 129,
   "source": [
    "(b == 0).sum()"
   ],
   "outputs": [
    {
     "output_type": "execute_result",
     "data": {
      "text/plain": [
       "7227"
      ]
     },
     "metadata": {},
     "execution_count": 129
    }
   ],
   "metadata": {}
  },
  {
   "cell_type": "code",
   "execution_count": 4,
   "source": [
    "with h5py.File(file_path, 'r') as source:\n",
    "    a =  source[event]['response_E_T']['D0']['0'][...]\n"
   ],
   "outputs": [],
   "metadata": {}
  },
  {
   "cell_type": "code",
   "execution_count": null,
   "source": [
    "a < [1,2]"
   ],
   "outputs": [],
   "metadata": {}
  },
  {
   "cell_type": "code",
   "execution_count": 6,
   "source": [
    "Inf = np.empty((time_num, 100, 2))\n",
    "Inf[:,:,0] = np.expand_dims(Time ,1)\n",
    "Inf[:,:,1] = np.expand_dims(Ebounds[:100], 0)\n",
    "\n",
    "Sup = np.empty((time_num, 100, 2))\n",
    "Sup[:,:,0] = np.expand_dims(Time + time_interval ,1)\n",
    "Sup[:,:,1] = np.expand_dims(Ebounds[1:], 0)\n"
   ],
   "outputs": [],
   "metadata": {}
  },
  {
   "cell_type": "code",
   "execution_count": 20,
   "source": [
    "Tbounds = np.array(Time, Time[-1] + time_interval)\n",
    "Id_time = (np.expand_dims(a[:, 0], 1) > Tbounds).sum(axis=1) - 1\n",
    "Id_time[Id_time == -1] = Tbounds.size - 1\n",
    "Id_time"
   ],
   "outputs": [
    {
     "output_type": "execute_result",
     "data": {
      "text/plain": [
       "array([2239, 2239, 2239, ..., 2239, 2239, 2239])"
      ]
     },
     "metadata": {},
     "execution_count": 20
    }
   ],
   "metadata": {}
  },
  {
   "cell_type": "code",
   "execution_count": 25,
   "source": [
    "Id_eng = (np.expand_dims(a[:, 1], 1) > Ebounds).sum(axis=1) - 1\n",
    "Id_eng[Id_time == -1] = Ebounds.size - 1\n",
    "Id_eng"
   ],
   "outputs": [
    {
     "output_type": "execute_result",
     "data": {
      "text/plain": [
       "array([52,  0,  0, ...,  1,  0,  0])"
      ]
     },
     "metadata": {},
     "execution_count": 25
    }
   ],
   "metadata": {}
  },
  {
   "cell_type": "code",
   "execution_count": 91,
   "source": [
    "Counts = np.empty((7, 4, time_num + 1, 100 + 1))\n",
    "\n",
    "Id_time_eng = np.array([Id_time, Id_eng]).swapaxes(0, 1)\n",
    "Id_count = (np.expand_dims(Id_time_eng, 1) == Id_time_eng).prod(axis=2).sum(axis=1)\n",
    "\n",
    "Counts[0,0][Id_time, Id_eng] += Id_count\n"
   ],
   "outputs": [],
   "metadata": {}
  },
  {
   "cell_type": "code",
   "execution_count": 92,
   "source": [
    "c = Counts"
   ],
   "outputs": [],
   "metadata": {}
  },
  {
   "cell_type": "code",
   "execution_count": 93,
   "source": [
    "Counts = np.empty((7, 4, time_num + 1, 100 + 1))\n",
    "for i in range(Id_time.size):\n",
    "    Counts[0, 0, Id_time[i], Id_eng[i]] += 1"
   ],
   "outputs": [],
   "metadata": {}
  },
  {
   "cell_type": "code",
   "execution_count": 99,
   "source": [
    "Counts.shape"
   ],
   "outputs": [
    {
     "output_type": "execute_result",
     "data": {
      "text/plain": [
       "(7, 4, 100, 2240)"
      ]
     },
     "metadata": {},
     "execution_count": 99
    }
   ],
   "metadata": {}
  },
  {
   "cell_type": "code",
   "execution_count": 104,
   "source": [
    "with h5py.File('data/train_2.h5', 'r') as source:\n",
    "    response_E_T = source['700']['response_E_T']['D6']['0'][:]\n",
    "\n",
    "with h5py.File('data/deposition.h5', 'r') as source:\n",
    "    ebounds = np.array(source['Matrix'].attrs['Edges'])\n",
    "\n",
    "time_inf = int(np.ceil(response_E_T[0][0]))\n",
    "time_sup = int(np.floor(response_E_T[-1][0]))\n",
    "\n",
    "total_time = time_sup - time_inf\n",
    "time_interval = 0.1\n",
    "time_num = int(total_time/time_interval)\n",
    "\n",
    "Spectrum = np.zeros([time_num, 100])\n",
    "\n",
    "# 对于每一个粒子，按时间和能量归类\n",
    "for k in range(response_E_T.shape[0]):\n",
    "    # 对时间归类\n",
    "    for i in range(time_num):\n",
    "        if response_E_T[k][0] > time_inf + time_interval*i and response_E_T[k][0] < time_inf + time_interval*(i + 1):\n",
    "            # 对能量归类\n",
    "            for j in range(100):\n",
    "                if response_E_T[k][1] > ebounds[j] and response_E_T[k][1] < ebounds[j+1]:\n",
    "                    Spectrum[i][j] += response_E_T[k][1]\n",
    "                    break\n",
    "            break"
   ],
   "outputs": [],
   "metadata": {}
  }
 ],
 "metadata": {
  "orig_nbformat": 4,
  "language_info": {
   "name": "python",
   "version": "3.8.10",
   "mimetype": "text/x-python",
   "codemirror_mode": {
    "name": "ipython",
    "version": 3
   },
   "pygments_lexer": "ipython3",
   "nbconvert_exporter": "python",
   "file_extension": ".py"
  },
  "kernelspec": {
   "name": "python3",
   "display_name": "Python 3.8.10 64-bit"
  },
  "interpreter": {
   "hash": "916dbcbb3f70747c44a77c7bcd40155683ae19c65e1c03b4aa3499c5328201f1"
  }
 },
 "nbformat": 4,
 "nbformat_minor": 2
}