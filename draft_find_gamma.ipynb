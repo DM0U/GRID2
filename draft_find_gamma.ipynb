{
 "cells": [
  {
   "cell_type": "code",
   "execution_count": 1,
   "source": [
    "import h5py\n",
    "import matplotlib.pyplot as plt\n",
    "import numpy as np\n",
    "from scipy.signal import find_peaks_cwt\n",
    "import denoise as dn"
   ],
   "outputs": [],
   "metadata": {}
  },
  {
   "cell_type": "code",
   "execution_count": 2,
   "source": [
    "with h5py.File('data/deposition.h5', 'r') as source:\n",
    "    Ebounds = np.array(source['Matrix'].attrs['Edges'])"
   ],
   "outputs": [],
   "metadata": {}
  },
  {
   "cell_type": "code",
   "execution_count": 96,
   "source": [
    "file_path = 'data/train_2.h5'\n",
    "event = '1000'\n",
    "\n",
    "time_interval = 0.1\n",
    "\n",
    "with h5py.File(file_path, 'r') as source:\n",
    "    # 对应同一个事件，采用同一个时间段进行衡量\n",
    "    Time_sup = np.empty((7, 4))\n",
    "    Time_inf = np.empty((7, 4))\n",
    "    for cube in range(7):\n",
    "        for det in range(4):\n",
    "            Time_sup[cube, det] = source[event]['response_E_T']['D'+str(cube)][str(det)][:,0].max()\n",
    "            Time_inf[cube, det] = source[event]['response_E_T']['D'+str(cube)][str(det)][:,0].min()\n",
    "    time_sup = np.floor(Time_sup.min() - time_interval) #每个时刻t的计数的范围对应t~t+dt\n",
    "    time_inf = np.ceil(Time_inf.max())\n",
    "\n",
    "    Time = np.arange(time_inf, time_sup, time_interval)\n",
    "    time_num = Time.size    # 不直接计算，防止float的精度错误\n",
    "    Tbounds = np.array(Time, Time[-1] + time_interval)\n",
    "\n",
    "    # 广播规则的预备，对应上下限的准备\n",
    "    Inf = np.empty((time_num, 100, 2))\n",
    "    Inf[:,:,0] = np.expand_dims(Time ,1)\n",
    "    Inf[:,:,1] = np.expand_dims(Ebounds[:100], 0)\n",
    "\n",
    "    Sup = np.empty((time_num, 100, 2))\n",
    "    Sup[:,:,0] = np.expand_dims(Time + time_interval ,1)\n",
    "    Sup[:,:,1] = np.expand_dims(Ebounds[1:], 0)\n",
    "\n",
    "    # 初始索引顺序：cube, det, time, Eng\n",
    "    # time, Eng多一个长度用于存储超界的记录\n",
    "    Counts = np.zeros((7, 4, time_num + 1, 100 + 1))\n",
    "    for cube in range(7):\n",
    "        for det in range(4):\n",
    "            light_doc = source[event]['response_E_T']['D' + str(cube)][str(det)]\n",
    "\n",
    "            Id_time = (np.expand_dims(light_doc[:, 0], 1) > Tbounds).sum(axis=1) - 1\n",
    "            Id_time[Id_time == -1] = Tbounds.size - 1\n",
    "            Id_eng = (np.expand_dims(light_doc[:, 1], 1) > Ebounds).sum(axis=1) - 1\n",
    "            Id_eng[Id_time == -1] = Ebounds.size - 1\n",
    "\n",
    "            for i_doc in range(Id_time.size):\n",
    "                Counts[0, 0, Id_time[i_doc], Id_eng[i_doc]] += 1\n",
    "            \n",
    "            '''\n",
    "            虽然没有用for循环，但下面的广播规则更慢\n",
    "                对比运行结果为4.3s对0.5s（train_2,事件1000,cube=0,det=0）\n",
    "                Id_time_eng = np.array([Id_time, Id_eng]).swapaxes(0, 1)\n",
    "                Id_count = (np.expand_dims(Id_time_eng, 1) == Id_time_eng).prod(axis=2).sum(axis=1)\n",
    "\n",
    "                Counts[0,0][Id_time, Id_eng] += Id_count\n",
    "            '''\n",
    "\n",
    "    # 最终索引顺序：cube, det, eng, time\n",
    "    # 去除范围外的部分（对应eng, time的最后一项）\n",
    "    Counts = Counts[:, :, :-1, :-1].swapaxes(2, 3)\n",
    "\n",
    "\n",
    "#Light_response = np.empty((7, 4, ?, ))\n",
    "\n"
   ],
   "outputs": [],
   "metadata": {}
  },
  {
   "cell_type": "code",
   "execution_count": 4,
   "source": [
    "with h5py.File(file_path, 'r') as source:\n",
    "    a =  source[event]['response_E_T']['D0']['0'][...]\n"
   ],
   "outputs": [],
   "metadata": {}
  },
  {
   "cell_type": "code",
   "execution_count": null,
   "source": [
    "a < [1,2]"
   ],
   "outputs": [],
   "metadata": {}
  },
  {
   "cell_type": "code",
   "execution_count": 6,
   "source": [
    "Inf = np.empty((time_num, 100, 2))\n",
    "Inf[:,:,0] = np.expand_dims(Time ,1)\n",
    "Inf[:,:,1] = np.expand_dims(Ebounds[:100], 0)\n",
    "\n",
    "Sup = np.empty((time_num, 100, 2))\n",
    "Sup[:,:,0] = np.expand_dims(Time + time_interval ,1)\n",
    "Sup[:,:,1] = np.expand_dims(Ebounds[1:], 0)\n"
   ],
   "outputs": [],
   "metadata": {}
  },
  {
   "cell_type": "code",
   "execution_count": 20,
   "source": [
    "Tbounds = np.array(Time, Time[-1] + time_interval)\n",
    "Id_time = (np.expand_dims(a[:, 0], 1) > Tbounds).sum(axis=1) - 1\n",
    "Id_time[Id_time == -1] = Tbounds.size - 1\n",
    "Id_time"
   ],
   "outputs": [
    {
     "output_type": "execute_result",
     "data": {
      "text/plain": [
       "array([2239, 2239, 2239, ..., 2239, 2239, 2239])"
      ]
     },
     "metadata": {},
     "execution_count": 20
    }
   ],
   "metadata": {}
  },
  {
   "cell_type": "code",
   "execution_count": 25,
   "source": [
    "Id_eng = (np.expand_dims(a[:, 1], 1) > Ebounds).sum(axis=1) - 1\n",
    "Id_eng[Id_time == -1] = Ebounds.size - 1\n",
    "Id_eng"
   ],
   "outputs": [
    {
     "output_type": "execute_result",
     "data": {
      "text/plain": [
       "array([52,  0,  0, ...,  1,  0,  0])"
      ]
     },
     "metadata": {},
     "execution_count": 25
    }
   ],
   "metadata": {}
  },
  {
   "cell_type": "code",
   "execution_count": 91,
   "source": [
    "Counts = np.empty((7, 4, time_num + 1, 100 + 1))\n",
    "\n",
    "Id_time_eng = np.array([Id_time, Id_eng]).swapaxes(0, 1)\n",
    "Id_count = (np.expand_dims(Id_time_eng, 1) == Id_time_eng).prod(axis=2).sum(axis=1)\n",
    "\n",
    "Counts[0,0][Id_time, Id_eng] += Id_count\n"
   ],
   "outputs": [],
   "metadata": {}
  },
  {
   "cell_type": "code",
   "execution_count": 92,
   "source": [
    "c = Counts"
   ],
   "outputs": [],
   "metadata": {}
  },
  {
   "cell_type": "code",
   "execution_count": 93,
   "source": [
    "Counts = np.empty((7, 4, time_num + 1, 100 + 1))\n",
    "for i in range(Id_time.size):\n",
    "    Counts[0, 0, Id_time[i], Id_eng[i]] += 1"
   ],
   "outputs": [],
   "metadata": {}
  },
  {
   "cell_type": "code",
   "execution_count": 95,
   "source": [
    "np.prod(c == Counts)"
   ],
   "outputs": [
    {
     "output_type": "execute_result",
     "data": {
      "text/plain": [
       "1"
      ]
     },
     "metadata": {},
     "execution_count": 95
    }
   ],
   "metadata": {}
  },
  {
   "cell_type": "code",
   "execution_count": 51,
   "source": [
    "b = np.arange(25)\n",
    "b = b.reshape(5,5)\n",
    "b"
   ],
   "outputs": [
    {
     "output_type": "execute_result",
     "data": {
      "text/plain": [
       "array([[ 0,  1,  2,  3,  4],\n",
       "       [ 5,  6,  7,  8,  9],\n",
       "       [10, 11, 12, 13, 14],\n",
       "       [15, 16, 17, 18, 19],\n",
       "       [20, 21, 22, 23, 24]])"
      ]
     },
     "metadata": {},
     "execution_count": 51
    }
   ],
   "metadata": {}
  },
  {
   "cell_type": "code",
   "execution_count": 76,
   "source": [
    "l1 = np.array([1,2,1,3,5,4,5])\n",
    "l2 = np.array([1,2,1,2,5,7,5])\n",
    "l = np.array([l1, l2]).swapaxes(0, 1)\n",
    "(l[0] == l).prod(axis=1).sum()\n",
    "(np.expand_dims(l, 1) == l).prod(axis=2).sum(axis=1)"
   ],
   "outputs": [
    {
     "output_type": "execute_result",
     "data": {
      "text/plain": [
       "array([2, 1, 2, 1, 2, 1, 2])"
      ]
     },
     "metadata": {},
     "execution_count": 76
    }
   ],
   "metadata": {}
  },
  {
   "cell_type": "code",
   "execution_count": 53,
   "source": [
    "b[np.array([1,2,1]), np.array([1,2,1])]"
   ],
   "outputs": [
    {
     "output_type": "execute_result",
     "data": {
      "text/plain": [
       "array([ 7, 13,  7])"
      ]
     },
     "metadata": {},
     "execution_count": 53
    }
   ],
   "metadata": {}
  },
  {
   "cell_type": "code",
   "execution_count": 54,
   "source": [
    "np.bincount(np.array([1,2,1]))"
   ],
   "outputs": [
    {
     "output_type": "execute_result",
     "data": {
      "text/plain": [
       "array([0, 2, 1])"
      ]
     },
     "metadata": {},
     "execution_count": 54
    }
   ],
   "metadata": {}
  }
 ],
 "metadata": {
  "orig_nbformat": 4,
  "language_info": {
   "name": "python",
   "version": "3.8.10",
   "mimetype": "text/x-python",
   "codemirror_mode": {
    "name": "ipython",
    "version": 3
   },
   "pygments_lexer": "ipython3",
   "nbconvert_exporter": "python",
   "file_extension": ".py"
  },
  "kernelspec": {
   "name": "python3",
   "display_name": "Python 3.8.10 64-bit"
  },
  "interpreter": {
   "hash": "916dbcbb3f70747c44a77c7bcd40155683ae19c65e1c03b4aa3499c5328201f1"
  }
 },
 "nbformat": 4,
 "nbformat_minor": 2
}