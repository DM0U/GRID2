{
 "cells": [
  {
   "cell_type": "code",
   "execution_count": 3,
   "source": [
    "import numpy as np\n",
    "import h5py\n",
    "import pandas as pd"
   ],
   "outputs": [],
   "metadata": {}
  },
  {
   "cell_type": "code",
   "execution_count": 20,
   "source": [
    "# 方案一 通过csv读入\n",
    "E_edges = pd.read_csv('data/Eedges.csv', header=None).to_numpy().squeeze()\n",
    "\n",
    "\n",
    "np.roll(E_edges, -1) / E_edges"
   ],
   "outputs": [
    {
     "output_type": "execute_result",
     "data": {
      "text/plain": [
       "array([1.20000000e+00, 1.20000000e+00, 1.20000000e+00, 1.20000000e+00,\n",
       "       1.20000000e+00, 1.20000000e+00, 1.20000000e+00, 1.20000000e+00,\n",
       "       1.20000000e+00, 1.20000000e+00, 1.20000000e+00, 1.20000000e+00,\n",
       "       1.20000000e+00, 1.20000000e+00, 1.20000000e+00, 1.20000000e+00,\n",
       "       1.20000000e+00, 1.20000000e+00, 1.20000000e+00, 1.20000000e+00,\n",
       "       1.20000000e+00, 1.20000000e+00, 1.20000000e+00, 1.20000000e+00,\n",
       "       1.20000000e+00, 1.20000000e+00, 1.20000000e+00, 1.20000000e+00,\n",
       "       1.20000000e+00, 1.20000000e+00, 1.20000000e+00, 1.20000003e+00,\n",
       "       1.20000000e+00, 1.20000000e+00, 1.20000000e+00, 1.20000000e+00,\n",
       "       1.20000000e+00, 1.20000000e+00, 1.20000000e+00, 1.20000000e+00,\n",
       "       6.80377821e-04])"
      ]
     },
     "metadata": {},
     "execution_count": 20
    }
   ],
   "metadata": {}
  },
  {
   "cell_type": "code",
   "execution_count": 23,
   "source": [
    "# 方案二 自己算\n",
    "with h5py.File('data/deposition.h5', 'r') as ipt_deposition:\n",
    "    Eng_in_label = np.array(ipt_deposition['Matrix'].attrs['Index']).reshape(40,7,12)['E'][:,0,0]\n",
    "El_log = np.log(Eng_in_label)\n",
    "delta_log = (El_log[-1] - El_log[0]) / (El_log.size - 1)\n",
    "E_edges2_log = np.full((El_log.size + 1), El_log[0] - delta_log / 2)\n",
    "E_edges2_log += np.arange(El_log.size + 1) * delta_log\n",
    "E_edges2 = np.exp(E_edges2_log)"
   ],
   "outputs": [],
   "metadata": {}
  },
  {
   "cell_type": "code",
   "execution_count": 24,
   "source": [
    "# 两种方法的对比\n",
    "(E_edges2 - E_edges) / E_edges"
   ],
   "outputs": [
    {
     "output_type": "execute_result",
     "data": {
      "text/plain": [
       "array([-3.04864541e-10,  3.04864488e-10,  9.14592759e-10,  1.52432292e-09,\n",
       "        2.13405213e-09,  2.74378036e-09,  3.35351036e-09,  3.96323913e-09,\n",
       "        4.57296828e-09,  5.18269749e-09,  5.79242663e-09,  6.40215580e-09,\n",
       "        7.01188499e-09,  7.62161391e-09,  8.23134323e-09,  8.84107232e-09,\n",
       "        9.45080144e-09,  1.00605307e-08,  1.06702600e-08,  1.12799892e-08,\n",
       "        9.91971301e-09,  1.05294424e-08,  1.11391707e-08,  1.17489005e-08,\n",
       "        1.23586299e-08,  1.29683584e-08,  1.35780879e-08,  1.41878177e-08,\n",
       "        1.47975462e-08,  1.54072757e-08,  1.60170051e-08,  1.66267337e-08,\n",
       "       -4.57296781e-09, -3.96323808e-09, -3.35350968e-09, -2.74378026e-09,\n",
       "       -2.13405089e-09, -1.52432236e-09, -9.14592822e-10, -3.04863294e-10,\n",
       "        3.04865104e-10])"
      ]
     },
     "metadata": {},
     "execution_count": 24
    }
   ],
   "metadata": {}
  }
 ],
 "metadata": {
  "orig_nbformat": 4,
  "language_info": {
   "name": "python",
   "version": "3.8.10",
   "mimetype": "text/x-python",
   "codemirror_mode": {
    "name": "ipython",
    "version": 3
   },
   "pygments_lexer": "ipython3",
   "nbconvert_exporter": "python",
   "file_extension": ".py"
  },
  "kernelspec": {
   "name": "python3",
   "display_name": "Python 3.8.10 64-bit"
  },
  "interpreter": {
   "hash": "916dbcbb3f70747c44a77c7bcd40155683ae19c65e1c03b4aa3499c5328201f1"
  }
 },
 "nbformat": 4,
 "nbformat_minor": 2
}