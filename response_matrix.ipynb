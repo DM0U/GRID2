{
 "cells": [
  {
   "cell_type": "code",
   "execution_count": 1,
   "source": [
    "import h5py\n",
    "import numpy as np"
   ],
   "outputs": [],
   "metadata": {}
  },
  {
   "cell_type": "code",
   "execution_count": 18,
   "source": [
    "with h5py.File('data/deposition.h5') as ipt_deposition:\n",
    "    Response_Matrix = ipt_deposition['Matrix'][...]\n",
    "\n",
    "Response_Matrix_old = Response_Matrix       # 这是一个用于检验reshape正确性所用的语句\n",
    "\n",
    "# Response_Matrix \n",
    "# 最终索引：(theta, phi, Det, Eng_in, Engout)\n",
    "# 大小：    (7, 12, 4, 40, 100)\n",
    "Response_Matrix = Response_Matrix.reshape(40, 7, 12, 4, 100)\n",
    "Response_Matrix = Response_Matrix.swapaxes(0, 1).swapaxes(1, 2).swapaxes(2, 3)\n",
    "Response_Matrix.shape"
   ],
   "outputs": [
    {
     "output_type": "stream",
     "name": "stderr",
     "text": [
      "/tmp/ipykernel_3642/510504703.py:1: H5pyDeprecationWarning: The default file mode will change to 'r' (read-only) in h5py 3.0. To suppress this warning, pass the mode you need to h5py.File(), or set the global default h5.get_config().default_file_mode, or set the environment variable H5PY_DEFAULT_READONLY=1. Available modes are: 'r', 'r+', 'w', 'w-'/'x', 'a'. See the docs for details.\n",
      "  with h5py.File('data/deposition.h5') as ipt_deposition:\n"
     ]
    },
    {
     "output_type": "execute_result",
     "data": {
      "text/plain": [
       "(7, 12, 4, 40, 100)"
      ]
     },
     "metadata": {},
     "execution_count": 18
    }
   ],
   "metadata": {}
  },
  {
   "cell_type": "code",
   "execution_count": 55,
   "source": [
    "# 用于检验矩阵分割的正确性的函数\n",
    "# 最终期望结果为True(1)\n",
    "# 100,000 次循环DM0U本地用时2.4s\n",
    "\n",
    "def get_Matrix_id(id_engin, id_theta, id_phi):\n",
    "    id = id_phi + id_theta * 12 + id_engin * 7 * 12\n",
    "    return id\n",
    "\n",
    "_flag = True\n",
    "for _i in range(100000):\n",
    "    id_engin = np.random.randint(40)\n",
    "    id_theta = np.random.randint(7)\n",
    "    id_phi = np.random.randint(12)\n",
    "    _Bool = (Response_Matrix_old[get_Matrix_id(id_engin, id_theta, id_phi)] == \\\n",
    "             Response_Matrix[id_theta, id_phi, :, id_engin])\n",
    "    _flag *= np.prod(_Bool)\n",
    "\n",
    "    if _flag == False:\n",
    "        break\n",
    "\n",
    "print(_flag)\n"
   ],
   "outputs": [
    {
     "output_type": "stream",
     "name": "stdout",
     "text": [
      "1\n"
     ]
    }
   ],
   "metadata": {}
  },
  {
   "cell_type": "code",
   "execution_count": 85,
   "source": [
    "id_theta = 0\n",
    "id_det = 0\n",
    "print(Response_Matrix[id_theta, :, id_det, 0])\n",
    "print(Response_Matrix[id_theta, :, id_det, 0].sum())"
   ],
   "outputs": [
    {
     "output_type": "stream",
     "name": "stdout",
     "text": [
      "[[171   0   0 ...   0   0   0]\n",
      " [159   0   0 ...   0   0   0]\n",
      " [170   0   0 ...   0   0   0]\n",
      " ...\n",
      " [191   0   0 ...   0   0   0]\n",
      " [180   0   0 ...   0   0   0]\n",
      " [175   0   0 ...   0   0   0]]\n",
      "2115\n"
     ]
    }
   ],
   "metadata": {}
  },
  {
   "cell_type": "code",
   "execution_count": 114,
   "source": [
    "def get_Response_Matrix(theta=2, phi=3):\n",
    "    '''\n",
    "    双线性插值，计算theta, phi方向入射的响应矩阵\n",
    "        TODO: 或许应该改为接受一维numpy列表的theta,phi？\n",
    "        intput:\n",
    "            theta       入射的顶角, float\n",
    "            phi         入射的旋转角,float\n",
    "        output:\n",
    "            大小为(det, Engin, Engout)的numpy数组，表示theta, phi方向的响应矩阵\n",
    "    '''\n",
    "    global Response_Matrix\n",
    "\n",
    "    id_phi = phi / 2 / np.pi * 12\n",
    "    id_phi_inf = int(np.floor(id_phi))\n",
    "    id_phi_sup = (id_phi_inf + 1) % 12\n",
    "\n",
    "    delta_id_phi = id_phi - id_phi_inf\n",
    "\n",
    "\n",
    "    id_theta = theta / np.pi * 6\n",
    "    id_theta_inf = int(np.floor(id_theta))\n",
    "    id_theta_sup = (id_theta_inf + 1) % 6\n",
    "\n",
    "    delta_id_theta = id_theta - id_theta_inf\n",
    "\n",
    "    return \\\n",
    "    (1 - delta_id_phi) * \\\n",
    "        (Response_Matrix[id_theta_inf, id_phi_inf] * (1 - delta_id_theta) + \\\n",
    "        Response_Matrix[id_theta_sup, id_phi_inf] * delta_id_theta) + \\\n",
    "    delta_id_phi * \\\n",
    "        (Response_Matrix[id_theta_inf, id_phi_sup] * (1 - delta_id_theta) + \\\n",
    "        Response_Matrix[id_theta_sup, id_phi_sup] * delta_id_theta)"
   ],
   "outputs": [],
   "metadata": {}
  },
  {
   "cell_type": "code",
   "execution_count": 117,
   "source": [
    "# 双线性算法正确性的简单检验\n",
    "\n",
    "theta_unit = np.pi / 6\n",
    "phi_unit = np.pi * 2 / 12\n",
    "a = get_Response_Matrix(theta_unit, phi_unit / 2)\n",
    "b = (Response_Matrix[1, 0] + Response_Matrix[1, 1]) / 2\n",
    "\n",
    "np.prod(a == b)"
   ],
   "outputs": [],
   "metadata": {}
  }
 ],
 "metadata": {
  "orig_nbformat": 4,
  "language_info": {
   "name": "python",
   "version": "3.8.10",
   "mimetype": "text/x-python",
   "codemirror_mode": {
    "name": "ipython",
    "version": 3
   },
   "pygments_lexer": "ipython3",
   "nbconvert_exporter": "python",
   "file_extension": ".py"
  },
  "kernelspec": {
   "name": "python3",
   "display_name": "Python 3.8.10 64-bit"
  },
  "interpreter": {
   "hash": "916dbcbb3f70747c44a77c7bcd40155683ae19c65e1c03b4aa3499c5328201f1"
  }
 },
 "nbformat": 4,
 "nbformat_minor": 2
}