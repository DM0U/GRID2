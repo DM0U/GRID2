{
 "cells": [
  {
   "cell_type": "code",
   "execution_count": 4,
   "source": [
    "import h5py\n",
    "import numpy as np"
   ],
   "outputs": [],
   "metadata": {}
  },
  {
   "cell_type": "code",
   "execution_count": 5,
   "source": [
    "with h5py.File('data/deposition.h5', 'r') as ipt_deposition:\n",
    "    Response_Matrix = ipt_deposition['Matrix'][...]\n",
    "\n",
    "Response_Matrix_old = Response_Matrix       # 这是一个用于检验reshape正确性所用的语句\n",
    "\n",
    "# Response_Matrix \n",
    "# 最终索引：(theta, phi, Det, Eng_in, Engout)\n",
    "# 大小：    (7, 12, 4, 40, 100)\n",
    "Response_Matrix = Response_Matrix.reshape(40, 7, 12, 4, 100)\n",
    "Response_Matrix = Response_Matrix.swapaxes(0, 1).swapaxes(1, 2).swapaxes(2, 3)\n",
    "Response_Matrix.shape"
   ],
   "outputs": [
    {
     "output_type": "stream",
     "name": "stderr",
     "text": [
      "/tmp/ipykernel_4031/1871996035.py:1: H5pyDeprecationWarning: The default file mode will change to 'r' (read-only) in h5py 3.0. To suppress this warning, pass the mode you need to h5py.File(), or set the global default h5.get_config().default_file_mode, or set the environment variable H5PY_DEFAULT_READONLY=1. Available modes are: 'r', 'r+', 'w', 'w-'/'x', 'a'. See the docs for details.\n",
      "  with h5py.File('data/deposition.h5') as ipt_deposition:\n"
     ]
    },
    {
     "output_type": "execute_result",
     "data": {
      "text/plain": [
       "(7, 12, 4, 40, 100)"
      ]
     },
     "metadata": {},
     "execution_count": 5
    }
   ],
   "metadata": {}
  },
  {
   "cell_type": "code",
   "execution_count": 6,
   "source": [
    "# 用于检验矩阵分割的正确性的函数\n",
    "# 最终期望结果为True(1)\n",
    "# 100,000 次循环DM0U本地用时2.4s\n",
    "\n",
    "def get_Matrix_id(id_engin, id_theta, id_phi):\n",
    "    id = id_phi + id_theta * 12 + id_engin * 7 * 12\n",
    "    return id\n",
    "\n",
    "_flag = True\n",
    "for _i in range(100000):\n",
    "    id_engin = np.random.randint(40)\n",
    "    id_theta = np.random.randint(7)\n",
    "    id_phi = np.random.randint(12)\n",
    "    _Bool = (Response_Matrix_old[get_Matrix_id(id_engin, id_theta, id_phi)] == \\\n",
    "             Response_Matrix[id_theta, id_phi, :, id_engin])\n",
    "    _flag *= np.prod(_Bool)\n",
    "\n",
    "    if _flag == False:\n",
    "        break\n",
    "\n",
    "print(_flag)\n"
   ],
   "outputs": [
    {
     "output_type": "stream",
     "name": "stdout",
     "text": [
      "1\n"
     ]
    }
   ],
   "metadata": {}
  },
  {
   "cell_type": "code",
   "execution_count": 4,
   "source": [
    "# 如果需要使用以下对拍，请将response_matrix.py与此文件置于同一目录！！！\n",
    "import response_matrix as rm"
   ],
   "outputs": [],
   "metadata": {}
  },
  {
   "cell_type": "code",
   "execution_count": 8,
   "source": [
    "# 双线性算法正确性的简单检验\n",
    "\n",
    "theta_unit = np.pi / 6\n",
    "phi_unit = np.pi * 2 / 12\n",
    "a = rm.get_Response_Matrix(theta_unit, phi_unit / 2)\n",
    "b = (Response_Matrix[1, 0] + Response_Matrix[1, 1]) / 2\n",
    "\n",
    "bool(np.prod(a == b))"
   ],
   "outputs": [
    {
     "output_type": "execute_result",
     "data": {
      "text/plain": [
       "True"
      ]
     },
     "metadata": {},
     "execution_count": 8
    }
   ],
   "metadata": {}
  },
  {
   "cell_type": "code",
   "execution_count": 15,
   "source": [
    "# 这是一个对拍程序，用于校验矢量化的 get_Response_Matrix_array 的正确性\n",
    "# _test_time: 对拍次数\n",
    "# _flag: 为True时通过检验\n",
    "\n",
    "_test_time = 1000\n",
    "\n",
    "Phi = np.random.random(_test_time) * 2 * np.pi\n",
    "Theta = np.random.random(_test_time) * np.pi\n",
    "\n",
    "arr_res = rm.get_Response_Matrix(Theta, Phi, 'array')\n",
    "\n",
    "_flag = True\n",
    "for i in range(_test_time):\n",
    "    if np.prod(arr_res[i] == rm.get_Response_Matrix(float(Theta[i]), float(Phi[i]))) != 1:\n",
    "        _flag = False\n",
    "        break\n",
    "\n",
    "print(_flag)\n",
    "    "
   ],
   "outputs": [
    {
     "output_type": "stream",
     "name": "stdout",
     "text": [
      "True\n"
     ]
    }
   ],
   "metadata": {}
  }
 ],
 "metadata": {
  "orig_nbformat": 4,
  "language_info": {
   "name": "python",
   "version": "3.8.10",
   "mimetype": "text/x-python",
   "codemirror_mode": {
    "name": "ipython",
    "version": 3
   },
   "pygments_lexer": "ipython3",
   "nbconvert_exporter": "python",
   "file_extension": ".py"
  },
  "kernelspec": {
   "name": "python3",
   "display_name": "Python 3.8.10 64-bit"
  },
  "interpreter": {
   "hash": "916dbcbb3f70747c44a77c7bcd40155683ae19c65e1c03b4aa3499c5328201f1"
  }
 },
 "nbformat": 4,
 "nbformat_minor": 2
}