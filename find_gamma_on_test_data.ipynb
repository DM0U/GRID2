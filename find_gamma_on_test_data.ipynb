{
 "cells": [
  {
   "cell_type": "code",
   "execution_count": 2,
   "source": [
    "import numpy as np\n",
    "import h5py\n",
    "import find_gamma as fg"
   ],
   "outputs": [],
   "metadata": {}
  },
  {
   "cell_type": "code",
   "execution_count": null,
   "source": [
    "source = []\n",
    "\n",
    "for test in range(2):\n",
    "    file_path = 'data/test_' + str(test + 1) + '.h5'\n",
    "\n",
    "    for i_event in range(500):\n",
    "        event = str(500 * test + i_event + 1)\n",
    "\n",
    "        res = fg.find_gamma(file_path, event)\n",
    "        source.append(res)\n",
    "\n",
    "np.array(source)"
   ],
   "outputs": [],
   "metadata": {}
  },
  {
   "cell_type": "code",
   "execution_count": null,
   "source": [
    "with h5py.File('source.h5', 'w') as output:\n",
    "    output['source'] = np.array(source)"
   ],
   "outputs": [],
   "metadata": {}
  }
 ],
 "metadata": {
  "orig_nbformat": 4,
  "language_info": {
   "name": "python",
   "version": "3.8.10",
   "mimetype": "text/x-python",
   "codemirror_mode": {
    "name": "ipython",
    "version": 3
   },
   "pygments_lexer": "ipython3",
   "nbconvert_exporter": "python",
   "file_extension": ".py"
  },
  "kernelspec": {
   "name": "python3",
   "display_name": "Python 3.8.10 64-bit"
  },
  "interpreter": {
   "hash": "916dbcbb3f70747c44a77c7bcd40155683ae19c65e1c03b4aa3499c5328201f1"
  }
 },
 "nbformat": 4,
 "nbformat_minor": 2
}